{
 "cells": [
  {
   "cell_type": "code",
   "execution_count": 1,
   "metadata": {},
   "outputs": [],
   "source": [
    "import torch"
   ]
  },
  {
   "cell_type": "code",
   "execution_count": 2,
   "metadata": {},
   "outputs": [],
   "source": [
    "x = torch.Tensor(3, 4)"
   ]
  },
  {
   "cell_type": "code",
   "execution_count": 3,
   "metadata": {},
   "outputs": [
    {
     "data": {
      "text/plain": [
       "tensor([[ 0.0000e+00, -3.6893e+19, -1.3324e-15, -1.0845e-19],\n",
       "        [ 1.4569e-19,  6.4069e+02,  4.3066e+21,  1.1824e+22],\n",
       "        [ 4.3066e+21,  6.3828e+28,  3.8016e-39,  1.9447e+31]])"
      ]
     },
     "execution_count": 3,
     "metadata": {},
     "output_type": "execute_result"
    }
   ],
   "source": [
    "x"
   ]
  },
  {
   "cell_type": "code",
   "execution_count": 4,
   "metadata": {},
   "outputs": [
    {
     "data": {
      "text/plain": [
       "tensor([[0.8224, 0.7550, 0.4059, 0.4683],\n",
       "        [0.8343, 0.2114, 0.6337, 0.3141],\n",
       "        [0.0721, 0.5105, 0.1994, 0.5185]])"
      ]
     },
     "execution_count": 4,
     "metadata": {},
     "output_type": "execute_result"
    }
   ],
   "source": [
    "x.uniform_(0, 1)"
   ]
  },
  {
   "cell_type": "code",
   "execution_count": 5,
   "metadata": {},
   "outputs": [
    {
     "data": {
      "text/plain": [
       "tensor([[0.8224, 0.7550, 0.4059, 0.4683],\n",
       "        [0.8343, 0.2114, 0.6337, 0.3141],\n",
       "        [0.0721, 0.5105, 0.1994, 0.5185]])"
      ]
     },
     "execution_count": 5,
     "metadata": {},
     "output_type": "execute_result"
    }
   ],
   "source": [
    "x"
   ]
  },
  {
   "cell_type": "code",
   "execution_count": 6,
   "metadata": {},
   "outputs": [],
   "source": [
    "y = torch.Tensor(3, 5, 4)"
   ]
  },
  {
   "cell_type": "code",
   "execution_count": 7,
   "metadata": {},
   "outputs": [
    {
     "data": {
      "text/plain": [
       "tensor([[[0.2962, 0.5966, 0.3669, 0.6952],\n",
       "         [0.6957, 0.0912, 0.8771, 0.3231],\n",
       "         [0.0487, 0.1664, 0.2618, 0.6758],\n",
       "         [0.2083, 0.5040, 0.8529, 0.5175],\n",
       "         [0.4789, 0.7963, 0.5506, 0.1424]],\n",
       "\n",
       "        [[0.5402, 0.1558, 0.3437, 0.1739],\n",
       "         [0.6652, 0.7447, 0.4789, 0.3430],\n",
       "         [0.6965, 0.2332, 0.0853, 0.1631],\n",
       "         [0.4438, 0.5526, 0.9212, 0.2586],\n",
       "         [0.6120, 0.4610, 0.6620, 0.5258]],\n",
       "\n",
       "        [[0.9081, 0.5934, 0.5568, 0.1375],\n",
       "         [0.4152, 0.4626, 0.3212, 0.5976],\n",
       "         [0.6354, 0.6212, 0.5493, 0.2418],\n",
       "         [0.4178, 0.9293, 0.9493, 0.6546],\n",
       "         [0.4035, 0.0876, 0.5637, 0.1971]]])"
      ]
     },
     "execution_count": 7,
     "metadata": {},
     "output_type": "execute_result"
    }
   ],
   "source": [
    "y.uniform_(0, 1)"
   ]
  },
  {
   "cell_type": "code",
   "execution_count": 8,
   "metadata": {},
   "outputs": [
    {
     "ename": "RuntimeError",
     "evalue": "The expanded size of the tensor (5) must match the existing size (3) at non-singleton dimension 1.  Target sizes: [3, 5, 4].  Tensor sizes: [3, 4]",
     "output_type": "error",
     "traceback": [
      "\u001b[0;31m---------------------------------------------------------------------------\u001b[0m",
      "\u001b[0;31mRuntimeError\u001b[0m                              Traceback (most recent call last)",
      "\u001b[0;32m<ipython-input-8-ed27a1ebda9e>\u001b[0m in \u001b[0;36m<module>\u001b[0;34m\u001b[0m\n\u001b[0;32m----> 1\u001b[0;31m \u001b[0mx\u001b[0m\u001b[0;34m.\u001b[0m\u001b[0mexpand_as\u001b[0m\u001b[0;34m(\u001b[0m\u001b[0my\u001b[0m\u001b[0;34m)\u001b[0m\u001b[0;34m\u001b[0m\u001b[0;34m\u001b[0m\u001b[0m\n\u001b[0m",
      "\u001b[0;31mRuntimeError\u001b[0m: The expanded size of the tensor (5) must match the existing size (3) at non-singleton dimension 1.  Target sizes: [3, 5, 4].  Tensor sizes: [3, 4]"
     ]
    }
   ],
   "source": [
    "x.expand_as(y)"
   ]
  },
  {
   "cell_type": "code",
   "execution_count": 9,
   "metadata": {},
   "outputs": [],
   "source": [
    "x = x.unsqueeze(1)"
   ]
  },
  {
   "cell_type": "code",
   "execution_count": 10,
   "metadata": {},
   "outputs": [
    {
     "data": {
      "text/plain": [
       "tensor([[[0.8224, 0.7550, 0.4059, 0.4683]],\n",
       "\n",
       "        [[0.8343, 0.2114, 0.6337, 0.3141]],\n",
       "\n",
       "        [[0.0721, 0.5105, 0.1994, 0.5185]]])"
      ]
     },
     "execution_count": 10,
     "metadata": {},
     "output_type": "execute_result"
    }
   ],
   "source": [
    "x"
   ]
  },
  {
   "cell_type": "code",
   "execution_count": 11,
   "metadata": {},
   "outputs": [
    {
     "data": {
      "text/plain": [
       "tensor([[[0.8224, 0.7550, 0.4059, 0.4683],\n",
       "         [0.8224, 0.7550, 0.4059, 0.4683],\n",
       "         [0.8224, 0.7550, 0.4059, 0.4683],\n",
       "         [0.8224, 0.7550, 0.4059, 0.4683],\n",
       "         [0.8224, 0.7550, 0.4059, 0.4683]],\n",
       "\n",
       "        [[0.8343, 0.2114, 0.6337, 0.3141],\n",
       "         [0.8343, 0.2114, 0.6337, 0.3141],\n",
       "         [0.8343, 0.2114, 0.6337, 0.3141],\n",
       "         [0.8343, 0.2114, 0.6337, 0.3141],\n",
       "         [0.8343, 0.2114, 0.6337, 0.3141]],\n",
       "\n",
       "        [[0.0721, 0.5105, 0.1994, 0.5185],\n",
       "         [0.0721, 0.5105, 0.1994, 0.5185],\n",
       "         [0.0721, 0.5105, 0.1994, 0.5185],\n",
       "         [0.0721, 0.5105, 0.1994, 0.5185],\n",
       "         [0.0721, 0.5105, 0.1994, 0.5185]]])"
      ]
     },
     "execution_count": 11,
     "metadata": {},
     "output_type": "execute_result"
    }
   ],
   "source": [
    "x.expand_as(y)"
   ]
  },
  {
   "cell_type": "code",
   "execution_count": 12,
   "metadata": {},
   "outputs": [
    {
     "data": {
      "text/plain": [
       "tensor([[[0.2681],\n",
       "         [0.2140],\n",
       "         [0.1066],\n",
       "         [0.8604]],\n",
       "\n",
       "        [[0.5358],\n",
       "         [0.1779],\n",
       "         [0.8924],\n",
       "         [0.5060]],\n",
       "\n",
       "        [[0.5351],\n",
       "         [0.5226],\n",
       "         [0.7387],\n",
       "         [0.7842]]])"
      ]
     },
     "execution_count": 12,
     "metadata": {},
     "output_type": "execute_result"
    }
   ],
   "source": [
    "z = torch.Tensor(3, 4, 1)\n",
    "z.uniform_(0, 1)"
   ]
  },
  {
   "cell_type": "code",
   "execution_count": 13,
   "metadata": {},
   "outputs": [
    {
     "data": {
      "text/plain": [
       "tensor([[0.2681, 0.2140, 0.1066, 0.8604],\n",
       "        [0.5358, 0.1779, 0.8924, 0.5060],\n",
       "        [0.5351, 0.5226, 0.7387, 0.7842]])"
      ]
     },
     "execution_count": 13,
     "metadata": {},
     "output_type": "execute_result"
    }
   ],
   "source": [
    "z.squeeze(-1)"
   ]
  },
  {
   "cell_type": "code",
   "execution_count": 14,
   "metadata": {},
   "outputs": [
    {
     "data": {
      "text/plain": [
       "3"
      ]
     },
     "execution_count": 14,
     "metadata": {},
     "output_type": "execute_result"
    }
   ],
   "source": [
    "z.dim()"
   ]
  },
  {
   "cell_type": "code",
   "execution_count": 20,
   "metadata": {},
   "outputs": [
    {
     "data": {
      "text/plain": [
       "tensor([[[3., 3., 3., 3.],\n",
       "         [3., 3., 3., 3.],\n",
       "         [3., 3., 3., 3.],\n",
       "         [3., 3., 3., 3.]],\n",
       "\n",
       "        [[3., 3., 3., 3.],\n",
       "         [3., 3., 3., 3.],\n",
       "         [3., 3., 3., 3.],\n",
       "         [3., 3., 3., 3.]],\n",
       "\n",
       "        [[3., 3., 3., 3.],\n",
       "         [3., 3., 3., 3.],\n",
       "         [3., 3., 3., 3.],\n",
       "         [3., 3., 3., 3.]],\n",
       "\n",
       "        [[3., 3., 3., 3.],\n",
       "         [3., 3., 3., 3.],\n",
       "         [3., 3., 3., 3.],\n",
       "         [3., 3., 3., 3.]],\n",
       "\n",
       "        [[3., 3., 3., 3.],\n",
       "         [3., 3., 3., 3.],\n",
       "         [3., 3., 3., 3.],\n",
       "         [3., 3., 3., 3.]],\n",
       "\n",
       "        [[3., 3., 3., 3.],\n",
       "         [3., 3., 3., 3.],\n",
       "         [3., 3., 3., 3.],\n",
       "         [3., 3., 3., 3.]],\n",
       "\n",
       "        [[3., 3., 3., 3.],\n",
       "         [3., 3., 3., 3.],\n",
       "         [3., 3., 3., 3.],\n",
       "         [3., 3., 3., 3.]],\n",
       "\n",
       "        [[3., 3., 3., 3.],\n",
       "         [3., 3., 3., 3.],\n",
       "         [3., 3., 3., 3.],\n",
       "         [3., 3., 3., 3.]],\n",
       "\n",
       "        [[3., 3., 3., 3.],\n",
       "         [3., 3., 3., 3.],\n",
       "         [3., 3., 3., 3.],\n",
       "         [3., 3., 3., 3.]],\n",
       "\n",
       "        [[3., 3., 3., 3.],\n",
       "         [3., 3., 3., 3.],\n",
       "         [3., 3., 3., 3.],\n",
       "         [3., 3., 3., 3.]]])"
      ]
     },
     "execution_count": 20,
     "metadata": {},
     "output_type": "execute_result"
    }
   ],
   "source": [
    "x = torch.Tensor(10, 4, 4)\n",
    "x.fill_(3)"
   ]
  },
  {
   "cell_type": "code",
   "execution_count": 21,
   "metadata": {},
   "outputs": [
    {
     "data": {
      "text/plain": [
       "tensor([[[3., 3., 3., 3.],\n",
       "         [0., 3., 3., 3.],\n",
       "         [0., 0., 3., 3.],\n",
       "         [0., 0., 0., 3.]],\n",
       "\n",
       "        [[3., 3., 3., 3.],\n",
       "         [0., 3., 3., 3.],\n",
       "         [0., 0., 3., 3.],\n",
       "         [0., 0., 0., 3.]],\n",
       "\n",
       "        [[3., 3., 3., 3.],\n",
       "         [0., 3., 3., 3.],\n",
       "         [0., 0., 3., 3.],\n",
       "         [0., 0., 0., 3.]],\n",
       "\n",
       "        [[3., 3., 3., 3.],\n",
       "         [0., 3., 3., 3.],\n",
       "         [0., 0., 3., 3.],\n",
       "         [0., 0., 0., 3.]],\n",
       "\n",
       "        [[3., 3., 3., 3.],\n",
       "         [0., 3., 3., 3.],\n",
       "         [0., 0., 3., 3.],\n",
       "         [0., 0., 0., 3.]],\n",
       "\n",
       "        [[3., 3., 3., 3.],\n",
       "         [0., 3., 3., 3.],\n",
       "         [0., 0., 3., 3.],\n",
       "         [0., 0., 0., 3.]],\n",
       "\n",
       "        [[3., 3., 3., 3.],\n",
       "         [0., 3., 3., 3.],\n",
       "         [0., 0., 3., 3.],\n",
       "         [0., 0., 0., 3.]],\n",
       "\n",
       "        [[3., 3., 3., 3.],\n",
       "         [0., 3., 3., 3.],\n",
       "         [0., 0., 3., 3.],\n",
       "         [0., 0., 0., 3.]],\n",
       "\n",
       "        [[3., 3., 3., 3.],\n",
       "         [0., 3., 3., 3.],\n",
       "         [0., 0., 3., 3.],\n",
       "         [0., 0., 0., 3.]],\n",
       "\n",
       "        [[3., 3., 3., 3.],\n",
       "         [0., 3., 3., 3.],\n",
       "         [0., 0., 3., 3.],\n",
       "         [0., 0., 0., 3.]]])"
      ]
     },
     "execution_count": 21,
     "metadata": {},
     "output_type": "execute_result"
    }
   ],
   "source": [
    "torch.triu(x)"
   ]
  },
  {
   "cell_type": "code",
   "execution_count": 22,
   "metadata": {},
   "outputs": [
    {
     "ename": "RuntimeError",
     "evalue": "The size of tensor a (4) must match the size of tensor b (10) at non-singleton dimension 1",
     "output_type": "error",
     "traceback": [
      "\u001b[0;31m---------------------------------------------------------------------------\u001b[0m",
      "\u001b[0;31mRuntimeError\u001b[0m                              Traceback (most recent call last)",
      "\u001b[0;32m<ipython-input-22-ec4a81ac5966>\u001b[0m in \u001b[0;36m<module>\u001b[0;34m\u001b[0m\n\u001b[0;32m----> 1\u001b[0;31m \u001b[0mx\u001b[0m \u001b[0;34m+\u001b[0m \u001b[0mtorch\u001b[0m\u001b[0;34m.\u001b[0m\u001b[0mTensor\u001b[0m\u001b[0;34m(\u001b[0m\u001b[0;36m10\u001b[0m\u001b[0;34m,\u001b[0m \u001b[0;36m4\u001b[0m\u001b[0;34m)\u001b[0m\u001b[0;34m.\u001b[0m\u001b[0muniform_\u001b[0m\u001b[0;34m(\u001b[0m\u001b[0;36m0\u001b[0m\u001b[0;34m,\u001b[0m \u001b[0;36m1\u001b[0m\u001b[0;34m)\u001b[0m\u001b[0;34m\u001b[0m\u001b[0;34m\u001b[0m\u001b[0m\n\u001b[0m",
      "\u001b[0;31mRuntimeError\u001b[0m: The size of tensor a (4) must match the size of tensor b (10) at non-singleton dimension 1"
     ]
    }
   ],
   "source": [
    "x + torch.Tensor(10, 4).uniform_(0, 1)"
   ]
  },
  {
   "cell_type": "code",
   "execution_count": null,
   "metadata": {},
   "outputs": [],
   "source": []
  }
 ],
 "metadata": {
  "kernelspec": {
   "display_name": "Python 3",
   "language": "python",
   "name": "python3"
  },
  "language_info": {
   "codemirror_mode": {
    "name": "ipython",
    "version": 3
   },
   "file_extension": ".py",
   "mimetype": "text/x-python",
   "name": "python",
   "nbconvert_exporter": "python",
   "pygments_lexer": "ipython3",
   "version": "3.7.5"
  }
 },
 "nbformat": 4,
 "nbformat_minor": 4
}
